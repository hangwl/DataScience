{
 "cells": [
  {
   "cell_type": "markdown",
   "metadata": {},
   "source": [
    "# __Delivery Duration Prediction__\n",
    "\n",
    "This data project has been used as a take-home assignment in the recruitment process for the data science positions at DoorDash.\n",
    "\n",
    "<https://platform.stratascratch.com/data-projects/delivery-duration-prediction?tabname=solution>"
   ]
  },
  {
   "cell_type": "markdown",
   "metadata": {},
   "source": [
    "### __Assignment__\n",
    "\n",
    "When a consumer places an order on DoorDash, we show the expected time of delivery. It is very important for DoorDash to get this right, as it has a big impact on consumer experience. In this exercise, you will build a model to predict the estimated time taken for a delivery.\n",
    "\n",
    "Concretely, for a given delivery you must predict the total delivery duration seconds , i.e., the time taken from\n",
    "\n",
    "* Start: the time consumer submits the order (```created_at```) to\n",
    "* End: when the order will be delivered to the consumer (```actual_delivery_time```)"
   ]
  },
  {
   "cell_type": "markdown",
   "metadata": {},
   "source": [
    "### __Data Description__\n",
    "\n",
    "The attached file historical_data.csv contains a subset of deliveries received at DoorDash in early 2015 in a subset of the cities. Each row in this file corresponds to one unique delivery. We have added noise to the dataset to obfuscate certain business details. Each column corresponds to a feature as explained below. Note all money (dollar) values given in the data are in cents and all time duration values given are in seconds\n",
    "\n",
    "The target value to predict here is the total seconds value between created_at and actual_delivery_time.\n",
    "\n",
    "#### __Columns in doordash_historical_data.csv__\n",
    "\n",
    "##### __Time features__\n",
    "\n",
    "* ```market_id```: A city/region in which DoorDash operates, e.g., Los Angeles, given in the data as an id\n",
    "* ```created_at```: Timestamp in UTC when the order was submitted by the consumer to DoorDash. (Note this timestamp is in UTC, but in case you need it, the actual timezone of the region was US/Pacific)\n",
    "* ```actual_delivery_time```: Timestamp in UTC when the order was delivered to the consumer\n",
    "\n",
    "##### __Store features__\n",
    "\n",
    "* ```store_id```: an id representing the restaurant the order was submitted for\n",
    "* ```store_primary_category```: cuisine category of the restaurant, e.g., italian, asian\n",
    "* ```order_protocol```: a store can receive orders from DoorDash through many modes. This field represents an id denoting the protocol\n",
    "\n",
    "##### __Order features__\n",
    "\n",
    "* ```total_items```: total number of items in the order\n",
    "* ```subtotal```: total value of the order submitted (in cents)\n",
    "* ```num_distinct_items```: number of distinct items included in the order\n",
    "* ```min_item_price```: price of the item with the least cost in the order (in cents)\n",
    "* ```max_item_price```: price of the item with the highest cost in the order (in cents)\n",
    "\n",
    "##### __Market features__\n",
    "\n",
    "DoorDash being a marketplace, we have information on the state of marketplace when the order is placed, that can be used to estimate delivery time. The following features are values at the time of created_at (order submission time):\n",
    "\n",
    "* ```total_onshift_dashers```: Number of available dashers who are within 10 miles of the store at the time of order creation\n",
    "* ```total_busy_dashers```: Subset of above total_onshift_dashers who are currently working on an order\n",
    "* ```total_outstanding_orders```: Number of orders within 10 miles of this order that are currently being processed.\n",
    "\n",
    "##### __Predictions from other models__\n",
    "\n",
    "We have predictions from other models for various stages of delivery process that we can use:\n",
    "\n",
    "* ```estimated_order_place_duration```: Estimated time for the restaurant to receive the order from DoorDash (in seconds)\n",
    "* ```estimated_store_to_consumer_driving_duration```: Estimated travel time between store and consumer (in seconds)"
   ]
  },
  {
   "cell_type": "markdown",
   "metadata": {},
   "source": [
    "### __Practicalities__"
   ]
  },
  {
   "cell_type": "markdown",
   "metadata": {},
   "source": [
    "Build a model to predict the total delivery duration seconds (as defined above). Feel free to generate additional features from the given data to improve model performance. Explain:\n",
    "\n",
    "* model(s) used,\n",
    "* how you evaluated your model performance on the historical data,\n",
    "* any data processing you performed on the data,\n",
    "* feature engineering choices you made,\n",
    "* other information you would like to share your modeling approach.\n",
    "\n",
    "The project is expected to take 3-5 hours in total."
   ]
  }
 ],
 "metadata": {
  "kernelspec": {
   "display_name": "Python 3.10.4 64-bit",
   "language": "python",
   "name": "python3"
  },
  "language_info": {
   "name": "python",
   "version": "3.10.4"
  },
  "orig_nbformat": 4,
  "vscode": {
   "interpreter": {
    "hash": "7ac5d840b21b8489350802d2508d91468aea9f35896439d4634edeb7fa6fa44f"
   }
  }
 },
 "nbformat": 4,
 "nbformat_minor": 2
}
